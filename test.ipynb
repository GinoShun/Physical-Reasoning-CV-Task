{
 "cells": [
  {
   "cell_type": "code",
   "execution_count": 2,
   "metadata": {},
   "outputs": [
    {
     "name": "stdout",
     "output_type": "stream",
     "text": [
      "CUDA available: True\n",
      "CUDA device count: 1\n",
      "CUDA device 0: NVIDIA GeForce RTX 4080\n",
      "cuda\n",
      "2.4.1+cu118\n",
      "11.8\n"
     ]
    }
   ],
   "source": [
    "# test if pytorch can run in gpu\n",
    "import torch\n",
    "import torch.nn as nn\n",
    "import torch.nn.functional as F\n",
    "import torch.optim as optim\n",
    "import numpy as np\n",
    "\n",
    "cuda_available = torch.cuda.is_available()\n",
    "print(f\"CUDA available: {cuda_available}\")\n",
    "if cuda_available:\n",
    "    print(f\"CUDA device count: {torch.cuda.device_count()}\")\n",
    "    for i in range(torch.cuda.device_count()):\n",
    "        print(f\"CUDA device {i}: {torch.cuda.get_device_name(i)}\")\n",
    "\n",
    "print(torch.__version__)\n",
    "print(torch.version.cuda)"
   ]
  },
  {
   "cell_type": "markdown",
   "metadata": {},
   "source": [
    "### Understand data"
   ]
  },
  {
   "cell_type": "code",
   "execution_count": 6,
   "metadata": {},
   "outputs": [
    {
     "name": "stdout",
     "output_type": "stream",
     "text": [
      "(224, 224, 3)\n"
     ]
    }
   ],
   "source": [
    "from PIL import Image\n",
    "import numpy as np\n",
    "\n",
    "image = Image.open('data/train/54.jpg')\n",
    "pic = np.array(image)\n",
    "\n",
    "print(pic.shape)"
   ]
  },
  {
   "cell_type": "code",
   "execution_count": 29,
   "metadata": {},
   "outputs": [
    {
     "name": "stdout",
     "output_type": "stream",
     "text": [
      "stable_height\n",
      "2    1920\n",
      "1    1920\n",
      "3    1536\n",
      "4    1152\n",
      "5     768\n",
      "6     384\n",
      "Name: count, dtype: int64\n"
     ]
    }
   ],
   "source": [
    "# read metadata\n",
    "import pandas as pd\n",
    "metadata = pd.read_csv('data/train.csv')\n",
    "\n",
    "# check the values in stable_height\n",
    "print(metadata['stable_height'].value_counts())"
   ]
  },
  {
   "cell_type": "markdown",
   "metadata": {},
   "source": [
    "### Test model accuracy"
   ]
  },
  {
   "cell_type": "code",
   "execution_count": 2,
   "metadata": {},
   "outputs": [],
   "source": [
    "import torch\n",
    "from torch.utils.data import DataLoader\n",
    "from backbones.resnet_SE import CNN\n",
    "import dataset\n",
    "import os"
   ]
  },
  {
   "cell_type": "code",
   "execution_count": 3,
   "metadata": {},
   "outputs": [],
   "source": [
    "device = torch.device(\"cuda\" if torch.cuda.is_available() else \"cpu\")"
   ]
  },
  {
   "cell_type": "code",
   "execution_count": 4,
   "metadata": {},
   "outputs": [],
   "source": [
    "# Load the test dataset\n",
    "def load_test_data(csv_file, image_dir, batch_size=64):\n",
    "    test_dataset = dataset.StackDataset(csv_file=csv_file, image_dir=image_dir, img_size=(224), stable_height = 'stable_height', train=False, testMode=True)\n",
    "    test_loader = DataLoader(test_dataset, batch_size=batch_size, shuffle=False, num_workers=4)\n",
    "    return test_loader"
   ]
  },
  {
   "cell_type": "code",
   "execution_count": 5,
   "metadata": {},
   "outputs": [],
   "source": [
    "# Function to calculate accuracy for classification model output\n",
    "def calculate_accuracy(model, test_loader, device):\n",
    "    model.eval()  # Set model to evaluation mode\n",
    "    correct = 0\n",
    "    total = 0\n",
    "    with torch.no_grad():  # Disable gradient calculation for evaluation\n",
    "        for inputs, targets in test_loader:\n",
    "            # Move data to device\n",
    "            inputs, targets = inputs.to(device), targets.to(device)\n",
    "            targets = targets.long()  # Ensure targets are long for classification\n",
    "            \n",
    "            # Get model predictions (outputs are logits)\n",
    "            outputs = model(inputs)\n",
    "            \n",
    "            # Get the index of the max logit (predicted class for each sample)\n",
    "            _, predicted = torch.max(outputs, 1)  # outputs shape: [batch_size, n_classes]\n",
    "            \n",
    "            # Update accuracy metrics\n",
    "            total += targets.size(0)\n",
    "            correct += (predicted == targets).sum().item()  # Compare predicted and actual targets\n",
    "            \n",
    "    if total == 0:  # Prevent division by zero\n",
    "        return 0\n",
    "    accuracy = 100 * correct / total\n",
    "    return accuracy"
   ]
  },
  {
   "cell_type": "code",
   "execution_count": 6,
   "metadata": {},
   "outputs": [],
   "source": [
    "# Function to test model accuracy\n",
    "def test_model_accuracy(model_path, csv_file, image_dir):\n",
    "    # Load the model\n",
    "    model = CNN()  # Initialize model\n",
    "    model.load_state_dict(torch.load(model_path, weights_only=True))  # Load saved weights\n",
    "    model.to(device)  # Move model to the device\n",
    "\n",
    "    # Load the test data\n",
    "    test_loader = load_test_data(csv_file, image_dir)\n",
    "\n",
    "    # print_top_5_predictions(model, test_loader)\n",
    "    \n",
    "    # Calculate accuracy\n",
    "    accuracy = calculate_accuracy(model, test_loader, device)\n",
    "    print(f\"Model Accuracy on Test Set: {accuracy:.2f}%\")\n",
    "    return accuracy"
   ]
  },
  {
   "cell_type": "code",
   "execution_count": 10,
   "metadata": {},
   "outputs": [
    {
     "name": "stdout",
     "output_type": "stream",
     "text": [
      "Testing model: models/exp5\\model_epoch_1.pth\n",
      "Model Accuracy on Test Set: 6.67%\n",
      "Testing model: models/exp5\\model_epoch_2.pth\n",
      "Model Accuracy on Test Set: 11.93%\n",
      "Testing model: models/exp5\\model_epoch_3.pth\n",
      "Model Accuracy on Test Set: 15.94%\n",
      "Testing model: models/exp5\\model_epoch_4.pth\n",
      "Model Accuracy on Test Set: 3.80%\n",
      "Testing model: models/exp5\\model_epoch_5.pth\n",
      "Model Accuracy on Test Set: 10.99%\n",
      "Testing model: models/exp5\\model_epoch_6.pth\n",
      "Model Accuracy on Test Set: 6.98%\n",
      "Testing model: models/exp5\\model_epoch_7.pth\n",
      "Model Accuracy on Test Set: 9.17%\n",
      "Testing model: models/exp5\\model_epoch_8.pth\n",
      "Model Accuracy on Test Set: 7.60%\n",
      "Testing model: models/exp5\\model_epoch_9.pth\n",
      "Model Accuracy on Test Set: 8.54%\n",
      "Testing model: models/exp5\\model_epoch_10.pth\n",
      "Model Accuracy on Test Set: 8.59%\n",
      "Testing model: models/exp5\\model_epoch_11.pth\n",
      "Model Accuracy on Test Set: 8.91%\n",
      "Testing model: models/exp5\\model_epoch_12.pth\n",
      "Model Accuracy on Test Set: 9.01%\n",
      "Testing model: models/exp5\\model_epoch_13.pth\n",
      "Model Accuracy on Test Set: 10.00%\n",
      "Testing model: models/exp5\\model_epoch_14.pth\n",
      "Model Accuracy on Test Set: 10.47%\n",
      "Testing model: models/exp5\\model_epoch_15.pth\n",
      "Model Accuracy on Test Set: 12.86%\n",
      "Testing model: models/exp5\\model_epoch_16.pth\n",
      "Model Accuracy on Test Set: 11.04%\n",
      "Testing model: models/exp5\\model_epoch_17.pth\n",
      "Model Accuracy on Test Set: 14.84%\n",
      "Testing model: models/exp5\\model_epoch_18.pth\n",
      "Model Accuracy on Test Set: 11.46%\n",
      "Testing model: models/exp5\\model_epoch_19.pth\n",
      "Model Accuracy on Test Set: 8.59%\n",
      "Testing model: models/exp5\\model_epoch_20.pth\n",
      "Model Accuracy on Test Set: 11.98%\n"
     ]
    }
   ],
   "source": [
    "csv_file='data/sample-solution.csv'\n",
    "image_dir='data/test'\n",
    "model_path_root='models/exp5'\n",
    "\n",
    "import re\n",
    "def natural_sort_key(s):\n",
    "    return [int(text) if text.isdigit() else text for text in re.split(r'(\\d+)', s)]\n",
    "\n",
    "# loop through all models and print accuracy\n",
    "for model_file in sorted(os.listdir(model_path_root), key=natural_sort_key):\n",
    "    model_path = os.path.join(model_path_root, model_file)\n",
    "    print(f\"Testing model: {model_path}\")\n",
    "    test_model_accuracy(model_path, csv_file, image_dir)\n"
   ]
  }
 ],
 "metadata": {
  "kernelspec": {
   "display_name": "CV",
   "language": "python",
   "name": "python3"
  },
  "language_info": {
   "codemirror_mode": {
    "name": "ipython",
    "version": 3
   },
   "file_extension": ".py",
   "mimetype": "text/x-python",
   "name": "python",
   "nbconvert_exporter": "python",
   "pygments_lexer": "ipython3",
   "version": "3.9.19"
  }
 },
 "nbformat": 4,
 "nbformat_minor": 2
}
